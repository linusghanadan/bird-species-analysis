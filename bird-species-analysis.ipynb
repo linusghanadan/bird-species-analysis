{
 "cells": [
  {
   "cell_type": "markdown",
   "id": "26c55356-41b8-49fd-8e89-201a08ca6492",
   "metadata": {},
   "source": [
    "## Week 6 HW - Characterizing egg variation"
   ]
  },
  {
   "cell_type": "code",
   "execution_count": 31,
   "id": "edfec13b-2e45-43d7-9861-594e35372a8a",
   "metadata": {
    "tags": []
   },
   "outputs": [],
   "source": [
    "import sqlite3\n",
    "import pandas as pd\n",
    "\n",
    "# connect to database\n",
    "conn = sqlite3.connect('database.sqlite')\n",
    "\n",
    "# step 1: query to fetch distinct species with scientific names\n",
    "species_query = \"\"\"\n",
    "SELECT DISTINCT b.Species, s.Scientific_name \n",
    "FROM Bird_nests b\n",
    "JOIN Species s ON b.Species = s.Code\n",
    "ORDER BY s.Scientific_name ASC;\n",
    "\"\"\"\n",
    "\n",
    "# create cursor\n",
    "c = conn.cursor()\n",
    "\n",
    "# execute query and store resulting species data\n",
    "species_data = c.execute(species_query).fetchall()"
   ]
  },
  {
   "cell_type": "code",
   "execution_count": 32,
   "id": "1862602d-d2e0-4d9d-b46a-650ad3ee4a98",
   "metadata": {
    "tags": []
   },
   "outputs": [
    {
     "name": "stdout",
     "output_type": "stream",
     "text": [
      "Arenaria interpres 21.12%\n",
      "Calidris alpina 5.46%\n",
      "Calidris fuscicollis 16.77%\n",
      "Charadrius semipalmatus 8.99%\n",
      "Phalaropus fulicarius 4.65%\n",
      "Pluvialis dominica 22.58%\n",
      "Pluvialis squatarola 6.94%\n"
     ]
    }
   ],
   "source": [
    "# step 2: iterate over species\n",
    "for row in species_data:\n",
    "    species_code = row[0]\n",
    "    scientific_name = row[1]\n",
    "\n",
    "    # step 3: query to fetch egg data for each species\n",
    "    egg_query = f\"\"\"\n",
    "    SELECT b.Width * b.Width * b.Length AS Volume\n",
    "    FROM Bird_nests n\n",
    "    JOIN Bird_eggs b ON n.Nest_ID = b.Nest_ID\n",
    "    WHERE n.Species = '{species_code}';\n",
    "    \"\"\"\n",
    "\n",
    "    # execute query and load data into pandas DataFrame\n",
    "    df = pd.read_sql(egg_query, conn)\n",
    "\n",
    "    # step 4: compute coefficient of variation (CV)\n",
    "    if not df.empty and df['Volume'].std() is not None:\n",
    "        cv = round(df['Volume'].std() / df['Volume'].mean() * 100, 2)\n",
    "        print(f\"{scientific_name} {cv}%\")\n",
    "\n",
    "# close database connection\n",
    "conn.close()\n"
   ]
  }
 ],
 "metadata": {
  "kernelspec": {
   "display_name": "Python 3 (ipykernel)",
   "language": "python",
   "name": "python3"
  },
  "language_info": {
   "codemirror_mode": {
    "name": "ipython",
    "version": 3
   },
   "file_extension": ".py",
   "mimetype": "text/x-python",
   "name": "python",
   "nbconvert_exporter": "python",
   "pygments_lexer": "ipython3",
   "version": "3.7.13"
  }
 },
 "nbformat": 4,
 "nbformat_minor": 5
}
